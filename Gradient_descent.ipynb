{
 "cells": [
  {
   "cell_type": "code",
   "execution_count": 3,
   "metadata": {},
   "outputs": [],
   "source": [
    "import numpy as np\n",
    "import pandas as pd\n",
    "import matplotlib.pyplot as plt"
   ]
  },
  {
   "cell_type": "code",
   "execution_count": 4,
   "metadata": {},
   "outputs": [],
   "source": [
    "x = np.array([i*np.pi/180 for i in range(60,300,4)])\n",
    "np.random.seed(10)\n",
    "\n",
    "y = np.sin(x) + np.random.normal(0, 0.15, len(x))"
   ]
  },
  {
   "cell_type": "code",
   "execution_count": 26,
   "metadata": {},
   "outputs": [],
   "source": [
    "def predict(m, c, x_i):\n",
    "    return m * x_i + c\n",
    "    ## yi,pred = m*xi + c\n",
    "\n",
    "def error(m, c, x_i, y_i):\n",
    "    return y_i - predict(m, c, x_i)\n",
    "    ## error = yi - yi,pred\n",
    "\n",
    "def MSE(m, c, x, y):\n",
    "    return sum(error(m,c,x_i,y_i)**2 for x_i,y_i in zip(x,y))/len(x)\n",
    "    ## sum_error = sigma(yi - yi,pred)^2\n",
    "\n",
    "\n"
   ]
  },
  {
   "cell_type": "code",
   "execution_count": 36,
   "metadata": {},
   "outputs": [
    {
     "name": "stdout",
     "output_type": "stream",
     "text": [
      "2\n",
      "-1\n",
      "30.75\n"
     ]
    },
    {
     "data": {
      "text/plain": [
       "[2, 3, 4, 5]"
      ]
     },
     "execution_count": 36,
     "metadata": {},
     "output_type": "execute_result"
    }
   ],
   "source": [
    "print(predict(1, 1, 1))\n",
    "print(error(1,1,1,1))\n",
    "print(MSE(1,1,x,y))\n",
    "x= [1,2,3,4]\n",
    "y= [3,2,15,5]\n",
    "\n",
    "predict_list = []\n",
    "for x_i,y_i in zip(x,y):\n",
    "    predict_list.append(predict(1,1,x_i))\n",
    "\n",
    "predict_list\n",
    "\n",
    "# for x_i,y_i in zip(x,y):\n",
    "#     print(x_i, y_i)\n",
    "\n",
    "\n"
   ]
  },
  {
   "cell_type": "code",
   "execution_count": 38,
   "metadata": {},
   "outputs": [
    {
     "data": {
      "text/plain": [
       "[<matplotlib.lines.Line2D at 0x22c1a8d12b0>]"
      ]
     },
     "execution_count": 38,
     "metadata": {},
     "output_type": "execute_result"
    },
    {
     "data": {
      "image/png": "[encoded data removed]",
      "text/plain": [
       "<Figure size 432x288 with 1 Axes>"
      ]
     },
     "metadata": {
      "needs_background": "light"
     },
     "output_type": "display_data"
    }
   ],
   "source": [
    "plt.plot(x, predict_list)\n",
    "plt.plot(x,y)"
   ]
  },
  {
   "cell_type": "code",
   "execution_count": 30,
   "metadata": {},
   "outputs": [
    {
     "name": "stdout",
     "output_type": "stream",
     "text": [
      "(1, 3)\n",
      "(2, 2)\n",
      "(3, 15)\n",
      "(4, 5)\n"
     ]
    }
   ],
   "source": [
    "x = [1,2,3,4]\n",
    "y = [3,2,15,5]\n",
    "\n",
    "for pair in zip(x,y):\n",
    "    print(pair)"
   ]
  }
 ],
 "metadata": {
  "interpreter": {
   "hash": "63fd5069d213b44bf678585dea6b12cceca9941eaf7f819626cde1f2670de90d"
  },
  "kernelspec": {
   "display_name": "Python 3.9.6 64-bit",
   "language": "python",
   "name": "python3"
  },
  "language_info": {
   "codemirror_mode": {
    "name": "ipython",
    "version": 3
   },
   "file_extension": ".py",
   "mimetype": "text/x-python",
   "name": "python",
   "nbconvert_exporter": "python",
   "pygments_lexer": "ipython3",
   "version": "3.9.6"
  },
  "orig_nbformat": 4
 },
 "nbformat": 4,
 "nbformat_minor": 2
}
